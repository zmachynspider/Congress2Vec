{
 "cells": [
  {
   "cell_type": "code",
   "execution_count": 1,
   "metadata": {
    "collapsed": true
   },
   "outputs": [],
   "source": [
    "%matplotlib inline"
   ]
  },
  {
   "cell_type": "code",
   "execution_count": 2,
   "metadata": {
    "collapsed": true
   },
   "outputs": [],
   "source": [
    "import pandas as pd\n",
    "import numpy as np\n",
    "from sklearn.feature_extraction.text import TfidfVectorizer\n",
    "import numpy as np\n",
    "import matplotlib.pyplot as plt\n",
    "import matplotlib.mlab as mlab\n",
    "from mpl_toolkits.mplot3d import Axes3D\n",
    "%matplotlib inline\n",
    "from sklearn.mixture import GaussianMixture\n",
    "from sklearn.metrics import silhouette_score\n",
    "import matplotlib.pyplot as plt"
   ]
  },
  {
   "cell_type": "code",
   "execution_count": 3,
   "metadata": {
    "collapsed": true
   },
   "outputs": [],
   "source": [
    "df = pd.read_pickle('data/gov_doc_df.pkl')"
   ]
  },
  {
   "cell_type": "code",
   "execution_count": 25,
   "metadata": {
    "collapsed": false
   },
   "outputs": [],
   "source": [
    "df = df[df['protocol']==False]"
   ]
  },
  {
   "cell_type": "code",
   "execution_count": 26,
   "metadata": {
    "collapsed": true
   },
   "outputs": [],
   "source": [
    "speaker_df = df.groupby(['speaker','party','t_party'])['text_stemmatized_haplatized'].apply(lambda x: x.sum()).to_frame()"
   ]
  },
  {
   "cell_type": "code",
   "execution_count": 27,
   "metadata": {
    "collapsed": true
   },
   "outputs": [],
   "source": [
    "speaker_df = pd.melt(speaker_df.reset_index(), id_vars=['speaker','party','t_party'])"
   ]
  },
  {
   "cell_type": "code",
   "execution_count": 28,
   "metadata": {
    "collapsed": false
   },
   "outputs": [
    {
     "data": {
      "text/html": [
       "<div>\n",
       "<table border=\"1\" class=\"dataframe\">\n",
       "  <thead>\n",
       "    <tr style=\"text-align: right;\">\n",
       "      <th></th>\n",
       "      <th>speaker</th>\n",
       "      <th>party</th>\n",
       "      <th>t_party</th>\n",
       "      <th>variable</th>\n",
       "      <th>value</th>\n",
       "    </tr>\n",
       "  </thead>\n",
       "  <tbody>\n",
       "    <tr>\n",
       "      <th>0</th>\n",
       "      <td>Mr ADERHOLT</td>\n",
       "      <td>(R)</td>\n",
       "      <td>False</td>\n",
       "      <td>text_stemmatized_haplatized</td>\n",
       "      <td>[mr, speaker, i, ask, unanim, consent, member,...</td>\n",
       "    </tr>\n",
       "    <tr>\n",
       "      <th>1</th>\n",
       "      <td>Mr AKIN</td>\n",
       "      <td>(R)</td>\n",
       "      <td>False</td>\n",
       "      <td>text_stemmatized_haplatized</td>\n",
       "      <td>[mr, speaker, rollcal, no, qnti, flight, delay...</td>\n",
       "    </tr>\n",
       "    <tr>\n",
       "      <th>2</th>\n",
       "      <td>Mr AL GREEN of Texas</td>\n",
       "      <td>(D)</td>\n",
       "      <td>False</td>\n",
       "      <td>text_stemmatized_haplatized</td>\n",
       "      <td>[mr, speaker, great, nobl, presid, abraham, li...</td>\n",
       "    </tr>\n",
       "    <tr>\n",
       "      <th>3</th>\n",
       "      <td>Mr ALEXANDER</td>\n",
       "      <td>(R)</td>\n",
       "      <td>False</td>\n",
       "      <td>text_stemmatized_haplatized</td>\n",
       "      <td>[congress, power, enact, legisl, pursuant, fol...</td>\n",
       "    </tr>\n",
       "    <tr>\n",
       "      <th>4</th>\n",
       "      <td>Mr ALTMIRE</td>\n",
       "      <td>(D)</td>\n",
       "      <td>False</td>\n",
       "      <td>text_stemmatized_haplatized</td>\n",
       "      <td>[mr, speaker, week, i, cosign, letter, transpo...</td>\n",
       "    </tr>\n",
       "  </tbody>\n",
       "</table>\n",
       "</div>"
      ],
      "text/plain": [
       "                speaker party t_party                     variable  \\\n",
       "0           Mr ADERHOLT   (R)   False  text_stemmatized_haplatized   \n",
       "1               Mr AKIN   (R)   False  text_stemmatized_haplatized   \n",
       "2  Mr AL GREEN of Texas   (D)   False  text_stemmatized_haplatized   \n",
       "3          Mr ALEXANDER   (R)   False  text_stemmatized_haplatized   \n",
       "4            Mr ALTMIRE   (D)   False  text_stemmatized_haplatized   \n",
       "\n",
       "                                               value  \n",
       "0  [mr, speaker, i, ask, unanim, consent, member,...  \n",
       "1  [mr, speaker, rollcal, no, qnti, flight, delay...  \n",
       "2  [mr, speaker, great, nobl, presid, abraham, li...  \n",
       "3  [congress, power, enact, legisl, pursuant, fol...  \n",
       "4  [mr, speaker, week, i, cosign, letter, transpo...  "
      ]
     },
     "execution_count": 28,
     "metadata": {},
     "output_type": "execute_result"
    }
   ],
   "source": [
    "speaker_df.head()"
   ]
  },
  {
   "cell_type": "code",
   "execution_count": 29,
   "metadata": {
    "collapsed": true
   },
   "outputs": [],
   "source": [
    "del speaker_df['variable']"
   ]
  },
  {
   "cell_type": "code",
   "execution_count": 30,
   "metadata": {
    "collapsed": true
   },
   "outputs": [],
   "source": [
    "tv = TfidfVectorizer(analyzer=lambda x: x)  \n",
    "X_vec = tv.fit_transform(speaker_df.value)"
   ]
  },
  {
   "cell_type": "code",
   "execution_count": 31,
   "metadata": {
    "collapsed": true
   },
   "outputs": [],
   "source": [
    "gmm = GaussianMixture(n_components=2,covariance_type='diag')"
   ]
  },
  {
   "cell_type": "code",
   "execution_count": 32,
   "metadata": {
    "collapsed": false
   },
   "outputs": [
    {
     "data": {
      "text/plain": [
       "GaussianMixture(covariance_type='diag', init_params='kmeans', max_iter=100,\n",
       "        means_init=None, n_components=2, n_init=1, precisions_init=None,\n",
       "        random_state=None, reg_covar=1e-06, tol=0.001, verbose=0,\n",
       "        verbose_interval=10, warm_start=False, weights_init=None)"
      ]
     },
     "execution_count": 32,
     "metadata": {},
     "output_type": "execute_result"
    }
   ],
   "source": [
    "gmm.fit(X_vec.toarray())"
   ]
  },
  {
   "cell_type": "code",
   "execution_count": 33,
   "metadata": {
    "collapsed": true
   },
   "outputs": [],
   "source": [
    "def plot_silhouette(data,clusters):\n",
    "    '''\n",
    "    Input:\n",
    "        data - (DataFrame) Data to cluster on\n",
    "        clusters - (list) List containing the number of clusters to check for\n",
    "    Output:\n",
    "        Plot showing the silhouette score for different numbers of centroids\n",
    "    '''  \n",
    "    sc=[]\n",
    "    for c in clusters:\n",
    "        gmm = GaussianMixture(n_components=c,covariance_type='diag')\n",
    "        gmm.fit(data)\n",
    "        cluster_labels = gmm.predict(data)\n",
    "        sc.append(silhouette_score(data,cluster_labels))\n",
    "    plt.plot(clusters,sc);"
   ]
  },
  {
   "cell_type": "code",
   "execution_count": 34,
   "metadata": {
    "collapsed": false
   },
   "outputs": [
    {
     "data": {
      "image/png": "[encoded data removed]",
      "text/plain": [
       "<matplotlib.figure.Figure at 0x1260ed438>"
      ]
     },
     "metadata": {},
     "output_type": "display_data"
    }
   ],
   "source": [
    "plot_silhouette(X_vec.toarray(),range(2,20))"
   ]
  },
  {
   "cell_type": "code",
   "execution_count": 35,
   "metadata": {
    "collapsed": false
   },
   "outputs": [
    {
     "data": {
      "text/plain": [
       "GaussianMixture(covariance_type='diag', init_params='kmeans', max_iter=100,\n",
       "        means_init=None, n_components=8, n_init=1, precisions_init=None,\n",
       "        random_state=None, reg_covar=1e-06, tol=0.001, verbose=0,\n",
       "        verbose_interval=10, warm_start=False, weights_init=None)"
      ]
     },
     "execution_count": 35,
     "metadata": {},
     "output_type": "execute_result"
    }
   ],
   "source": [
    "gmm = GaussianMixture(n_components=8,covariance_type='diag')\n",
    "gmm.fit(X_vec.toarray())"
   ]
  },
  {
   "cell_type": "code",
   "execution_count": 46,
   "metadata": {
    "collapsed": false
   },
   "outputs": [],
   "source": [
    "test = gmm.predict(X_vec.toarray())"
   ]
  },
  {
   "cell_type": "code",
   "execution_count": null,
   "metadata": {
    "collapsed": true
   },
   "outputs": [],
   "source": []
  }
 ],
 "metadata": {
  "kernelspec": {
   "display_name": "Python 3",
   "language": "python",
   "name": "python3"
  },
  "language_info": {
   "codemirror_mode": {
    "name": "ipython",
    "version": 3
   },
   "file_extension": ".py",
   "mimetype": "text/x-python",
   "name": "python",
   "nbconvert_exporter": "python",
   "pygments_lexer": "ipython3",
   "version": "3.5.2"
  }
 },
 "nbformat": 4,
 "nbformat_minor": 1
}
