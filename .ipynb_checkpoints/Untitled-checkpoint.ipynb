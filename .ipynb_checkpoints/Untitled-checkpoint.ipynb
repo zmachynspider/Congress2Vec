{
 "cells": [
  {
   "cell_type": "code",
   "execution_count": 1,
   "metadata": {
    "collapsed": true
   },
   "outputs": [],
   "source": [
    "%matplotlib inline"
   ]
  },
  {
   "cell_type": "code",
   "execution_count": 2,
   "metadata": {
    "collapsed": true
   },
   "outputs": [],
   "source": [
    "import pandas as pd\n",
    "import numpy as np\n",
    "from sklearn.feature_extraction.text import TfidfVectorizer\n",
    "import numpy as np\n",
    "import matplotlib.pyplot as plt\n",
    "import matplotlib.mlab as mlab\n",
    "from mpl_toolkits.mplot3d import Axes3D\n",
    "%matplotlib inline\n",
    "from sklearn.mixture import GaussianMixture\n",
    "from sklearn.metrics import silhouette_score\n",
    "import matplotlib.pyplot as plt"
   ]
  },
  {
   "cell_type": "code",
   "execution_count": 3,
   "metadata": {
    "collapsed": true
   },
   "outputs": [],
   "source": [
    "df = pd.read_pickle('data/gov_doc_df.pkl')"
   ]
  },
  {
   "cell_type": "code",
   "execution_count": 4,
   "metadata": {
    "collapsed": false
   },
   "outputs": [],
   "source": [
    "df = df[df['protocol']==False]"
   ]
  },
  {
   "cell_type": "code",
   "execution_count": 27,
   "metadata": {
    "collapsed": true
   },
   "outputs": [],
   "source": [
    "speaker_df = df.groupby(['speaker','party','t_party','state','gender'])['text_stemmatized_haplatized'].apply(lambda x: x.sum()).to_frame()"
   ]
  },
  {
   "cell_type": "code",
   "execution_count": 28,
   "metadata": {
    "collapsed": true
   },
   "outputs": [],
   "source": [
    "speaker_df = pd.melt(speaker_df.reset_index(), id_vars=['speaker','party','t_party','state','gender'])"
   ]
  },
  {
   "cell_type": "code",
   "execution_count": 29,
   "metadata": {
    "collapsed": false
   },
   "outputs": [
    {
     "data": {
      "text/html": [
       "<div>\n",
       "<table border=\"1\" class=\"dataframe\">\n",
       "  <thead>\n",
       "    <tr style=\"text-align: right;\">\n",
       "      <th></th>\n",
       "      <th>speaker</th>\n",
       "      <th>party</th>\n",
       "      <th>t_party</th>\n",
       "      <th>state</th>\n",
       "      <th>gender</th>\n",
       "      <th>variable</th>\n",
       "      <th>value</th>\n",
       "    </tr>\n",
       "  </thead>\n",
       "  <tbody>\n",
       "    <tr>\n",
       "      <th>0</th>\n",
       "      <td>Mr ADERHOLT</td>\n",
       "      <td>(R)</td>\n",
       "      <td>False</td>\n",
       "      <td>Alabama</td>\n",
       "      <td>M</td>\n",
       "      <td>text_stemmatized_haplatized</td>\n",
       "      <td>[mr, speaker, i, ask, unanim, consent, member,...</td>\n",
       "    </tr>\n",
       "    <tr>\n",
       "      <th>1</th>\n",
       "      <td>Mr AKIN</td>\n",
       "      <td>(R)</td>\n",
       "      <td>False</td>\n",
       "      <td>Missouri</td>\n",
       "      <td>M</td>\n",
       "      <td>text_stemmatized_haplatized</td>\n",
       "      <td>[mr, speaker, rollcal, no, qnti, flight, delay...</td>\n",
       "    </tr>\n",
       "    <tr>\n",
       "      <th>2</th>\n",
       "      <td>Mr AL GREEN of Texas</td>\n",
       "      <td>(D)</td>\n",
       "      <td>False</td>\n",
       "      <td>Texas</td>\n",
       "      <td>M</td>\n",
       "      <td>text_stemmatized_haplatized</td>\n",
       "      <td>[mr, speaker, great, nobl, presid, abraham, li...</td>\n",
       "    </tr>\n",
       "    <tr>\n",
       "      <th>3</th>\n",
       "      <td>Mr ALEXANDER</td>\n",
       "      <td>(R)</td>\n",
       "      <td>False</td>\n",
       "      <td>Louisiana</td>\n",
       "      <td>M</td>\n",
       "      <td>text_stemmatized_haplatized</td>\n",
       "      <td>[congress, power, enact, legisl, pursuant, fol...</td>\n",
       "    </tr>\n",
       "    <tr>\n",
       "      <th>4</th>\n",
       "      <td>Mr ALTMIRE</td>\n",
       "      <td>(D)</td>\n",
       "      <td>False</td>\n",
       "      <td>Pennsylvania</td>\n",
       "      <td>M</td>\n",
       "      <td>text_stemmatized_haplatized</td>\n",
       "      <td>[mr, speaker, week, i, cosign, letter, transpo...</td>\n",
       "    </tr>\n",
       "  </tbody>\n",
       "</table>\n",
       "</div>"
      ],
      "text/plain": [
       "                speaker party t_party         state gender  \\\n",
       "0           Mr ADERHOLT   (R)   False       Alabama      M   \n",
       "1               Mr AKIN   (R)   False      Missouri      M   \n",
       "2  Mr AL GREEN of Texas   (D)   False         Texas      M   \n",
       "3          Mr ALEXANDER   (R)   False     Louisiana      M   \n",
       "4            Mr ALTMIRE   (D)   False  Pennsylvania      M   \n",
       "\n",
       "                      variable  \\\n",
       "0  text_stemmatized_haplatized   \n",
       "1  text_stemmatized_haplatized   \n",
       "2  text_stemmatized_haplatized   \n",
       "3  text_stemmatized_haplatized   \n",
       "4  text_stemmatized_haplatized   \n",
       "\n",
       "                                               value  \n",
       "0  [mr, speaker, i, ask, unanim, consent, member,...  \n",
       "1  [mr, speaker, rollcal, no, qnti, flight, delay...  \n",
       "2  [mr, speaker, great, nobl, presid, abraham, li...  \n",
       "3  [congress, power, enact, legisl, pursuant, fol...  \n",
       "4  [mr, speaker, week, i, cosign, letter, transpo...  "
      ]
     },
     "execution_count": 29,
     "metadata": {},
     "output_type": "execute_result"
    }
   ],
   "source": [
    "speaker_df.head()"
   ]
  },
  {
   "cell_type": "code",
   "execution_count": 11,
   "metadata": {
    "collapsed": true
   },
   "outputs": [],
   "source": [
    "del speaker_df['variable']"
   ]
  },
  {
   "cell_type": "code",
   "execution_count": 12,
   "metadata": {
    "collapsed": true
   },
   "outputs": [],
   "source": [
    "tv = TfidfVectorizer(analyzer=lambda x: x)  \n",
    "X_vec = tv.fit_transform(speaker_df.value)"
   ]
  },
  {
   "cell_type": "code",
   "execution_count": 31,
   "metadata": {
    "collapsed": true
   },
   "outputs": [],
   "source": [
    "gmm = GaussianMixture(n_components=2,covariance_type='diag')"
   ]
  },
  {
   "cell_type": "code",
   "execution_count": 32,
   "metadata": {
    "collapsed": false
   },
   "outputs": [
    {
     "data": {
      "text/plain": [
       "GaussianMixture(covariance_type='diag', init_params='kmeans', max_iter=100,\n",
       "        means_init=None, n_components=2, n_init=1, precisions_init=None,\n",
       "        random_state=None, reg_covar=1e-06, tol=0.001, verbose=0,\n",
       "        verbose_interval=10, warm_start=False, weights_init=None)"
      ]
     },
     "execution_count": 32,
     "metadata": {},
     "output_type": "execute_result"
    }
   ],
   "source": [
    "gmm.fit(X_vec.toarray())"
   ]
  },
  {
   "cell_type": "code",
   "execution_count": 13,
   "metadata": {
    "collapsed": true
   },
   "outputs": [],
   "source": [
    "from sklearn.decomposition import PCA"
   ]
  },
  {
   "cell_type": "code",
   "execution_count": 14,
   "metadata": {
    "collapsed": false
   },
   "outputs": [],
   "source": [
    "pca = PCA(n_components=50)\n",
    "X_pca = pca.fit_transform(X_vec.toarray())"
   ]
  },
  {
   "cell_type": "code",
   "execution_count": 15,
   "metadata": {
    "collapsed": true
   },
   "outputs": [],
   "source": [
    "def plot_silhouette(data,clusters):\n",
    "    '''\n",
    "    Input:\n",
    "        data - (DataFrame) Data to cluster on\n",
    "        clusters - (list) List containing the number of clusters to check for\n",
    "    Output:\n",
    "        Plot showing the silhouette score for different numbers of centroids\n",
    "    '''  \n",
    "    sc=[]\n",
    "    for c in clusters:\n",
    "        gmm = GaussianMixture(n_components=c,covariance_type='diag')\n",
    "        gmm.fit(data)\n",
    "        cluster_labels = gmm.predict(data)\n",
    "        sc.append(silhouette_score(data,cluster_labels))\n",
    "    plt.plot(clusters,sc);"
   ]
  },
  {
   "cell_type": "code",
   "execution_count": 18,
   "metadata": {
    "collapsed": false
   },
   "outputs": [
    {
     "data": {
      "image/png": "[encoded data removed]",
      "text/plain": [
       "<matplotlib.figure.Figure at 0x121f29240>"
      ]
     },
     "metadata": {},
     "output_type": "display_data"
    }
   ],
   "source": [
    "plot_silhouette(X_pca,range(2,20))"
   ]
  },
  {
   "cell_type": "code",
   "execution_count": 20,
   "metadata": {
    "collapsed": false
   },
   "outputs": [
    {
     "data": {
      "text/plain": [
       "GaussianMixture(covariance_type='diag', init_params='kmeans', max_iter=100,\n",
       "        means_init=None, n_components=4, n_init=1, precisions_init=None,\n",
       "        random_state=None, reg_covar=1e-06, tol=0.001, verbose=0,\n",
       "        verbose_interval=10, warm_start=False, weights_init=None)"
      ]
     },
     "execution_count": 20,
     "metadata": {},
     "output_type": "execute_result"
    }
   ],
   "source": [
    "gmm = GaussianMixture(n_components=4,covariance_type='diag')\n",
    "gmm.fit(X_pca)"
   ]
  },
  {
   "cell_type": "code",
   "execution_count": 30,
   "metadata": {
    "collapsed": false
   },
   "outputs": [],
   "source": [
    "speaker_df['cluster']= gmm.predict(X_pca)"
   ]
  },
  {
   "cell_type": "code",
   "execution_count": 31,
   "metadata": {
    "collapsed": false
   },
   "outputs": [
    {
     "data": {
      "text/html": [
       "<div>\n",
       "<table border=\"1\" class=\"dataframe\">\n",
       "  <thead>\n",
       "    <tr style=\"text-align: right;\">\n",
       "      <th></th>\n",
       "      <th>speaker</th>\n",
       "      <th>party</th>\n",
       "      <th>t_party</th>\n",
       "      <th>state</th>\n",
       "      <th>gender</th>\n",
       "      <th>variable</th>\n",
       "      <th>value</th>\n",
       "      <th>cluster</th>\n",
       "    </tr>\n",
       "  </thead>\n",
       "  <tbody>\n",
       "    <tr>\n",
       "      <th>0</th>\n",
       "      <td>Mr ADERHOLT</td>\n",
       "      <td>(R)</td>\n",
       "      <td>False</td>\n",
       "      <td>Alabama</td>\n",
       "      <td>M</td>\n",
       "      <td>text_stemmatized_haplatized</td>\n",
       "      <td>[mr, speaker, i, ask, unanim, consent, member,...</td>\n",
       "      <td>3</td>\n",
       "    </tr>\n",
       "    <tr>\n",
       "      <th>1</th>\n",
       "      <td>Mr AKIN</td>\n",
       "      <td>(R)</td>\n",
       "      <td>False</td>\n",
       "      <td>Missouri</td>\n",
       "      <td>M</td>\n",
       "      <td>text_stemmatized_haplatized</td>\n",
       "      <td>[mr, speaker, rollcal, no, qnti, flight, delay...</td>\n",
       "      <td>1</td>\n",
       "    </tr>\n",
       "    <tr>\n",
       "      <th>2</th>\n",
       "      <td>Mr AL GREEN of Texas</td>\n",
       "      <td>(D)</td>\n",
       "      <td>False</td>\n",
       "      <td>Texas</td>\n",
       "      <td>M</td>\n",
       "      <td>text_stemmatized_haplatized</td>\n",
       "      <td>[mr, speaker, great, nobl, presid, abraham, li...</td>\n",
       "      <td>1</td>\n",
       "    </tr>\n",
       "    <tr>\n",
       "      <th>3</th>\n",
       "      <td>Mr ALEXANDER</td>\n",
       "      <td>(R)</td>\n",
       "      <td>False</td>\n",
       "      <td>Louisiana</td>\n",
       "      <td>M</td>\n",
       "      <td>text_stemmatized_haplatized</td>\n",
       "      <td>[congress, power, enact, legisl, pursuant, fol...</td>\n",
       "      <td>3</td>\n",
       "    </tr>\n",
       "    <tr>\n",
       "      <th>4</th>\n",
       "      <td>Mr ALTMIRE</td>\n",
       "      <td>(D)</td>\n",
       "      <td>False</td>\n",
       "      <td>Pennsylvania</td>\n",
       "      <td>M</td>\n",
       "      <td>text_stemmatized_haplatized</td>\n",
       "      <td>[mr, speaker, week, i, cosign, letter, transpo...</td>\n",
       "      <td>1</td>\n",
       "    </tr>\n",
       "  </tbody>\n",
       "</table>\n",
       "</div>"
      ],
      "text/plain": [
       "                speaker party t_party         state gender  \\\n",
       "0           Mr ADERHOLT   (R)   False       Alabama      M   \n",
       "1               Mr AKIN   (R)   False      Missouri      M   \n",
       "2  Mr AL GREEN of Texas   (D)   False         Texas      M   \n",
       "3          Mr ALEXANDER   (R)   False     Louisiana      M   \n",
       "4            Mr ALTMIRE   (D)   False  Pennsylvania      M   \n",
       "\n",
       "                      variable  \\\n",
       "0  text_stemmatized_haplatized   \n",
       "1  text_stemmatized_haplatized   \n",
       "2  text_stemmatized_haplatized   \n",
       "3  text_stemmatized_haplatized   \n",
       "4  text_stemmatized_haplatized   \n",
       "\n",
       "                                               value  cluster  \n",
       "0  [mr, speaker, i, ask, unanim, consent, member,...        3  \n",
       "1  [mr, speaker, rollcal, no, qnti, flight, delay...        1  \n",
       "2  [mr, speaker, great, nobl, presid, abraham, li...        1  \n",
       "3  [congress, power, enact, legisl, pursuant, fol...        3  \n",
       "4  [mr, speaker, week, i, cosign, letter, transpo...        1  "
      ]
     },
     "execution_count": 31,
     "metadata": {},
     "output_type": "execute_result"
    }
   ],
   "source": [
    "speaker_df.head()"
   ]
  },
  {
   "cell_type": "code",
   "execution_count": 32,
   "metadata": {
    "collapsed": false
   },
   "outputs": [
    {
     "data": {
      "text/plain": [
       "3    0.444976\n",
       "1    0.346890\n",
       "0    0.157895\n",
       "2    0.050239\n",
       "Name: cluster, dtype: float64"
      ]
     },
     "execution_count": 32,
     "metadata": {},
     "output_type": "execute_result"
    }
   ],
   "source": [
    "#exhamine cluster sizes\n",
    "speaker_df['cluster'].value_counts()/sum(speaker_df['cluster'].value_counts())"
   ]
  },
  {
   "cell_type": "markdown",
   "metadata": {},
   "source": [
    "*It looks like cluster 3 is our biggest cluster at 30% of the dataset, while cluster 2 is our smallest, at 3.8% of the dataset*"
   ]
  },
  {
   "cell_type": "code",
   "execution_count": 35,
   "metadata": {
    "collapsed": false
   },
   "outputs": [],
   "source": [
    "speaker_df['quant_party']=[1 if x == '(R)' else 0 for x in speaker_df.party]"
   ]
  },
  {
   "cell_type": "code",
   "execution_count": 33,
   "metadata": {
    "collapsed": true
   },
   "outputs": [],
   "source": [
    "speaker_df['quant_gender']=[1 if x == 'F' else 0 for x in speaker_df.gender]"
   ]
  },
  {
   "cell_type": "code",
   "execution_count": 36,
   "metadata": {
    "collapsed": false
   },
   "outputs": [
    {
     "data": {
      "text/html": [
       "<div>\n",
       "<table border=\"1\" class=\"dataframe\">\n",
       "  <thead>\n",
       "    <tr style=\"text-align: right;\">\n",
       "      <th></th>\n",
       "      <th>t_party</th>\n",
       "      <th>quant_gender</th>\n",
       "      <th>quant_party</th>\n",
       "    </tr>\n",
       "    <tr>\n",
       "      <th>cluster</th>\n",
       "      <th></th>\n",
       "      <th></th>\n",
       "      <th></th>\n",
       "    </tr>\n",
       "  </thead>\n",
       "  <tbody>\n",
       "    <tr>\n",
       "      <th>0</th>\n",
       "      <td>0.151515</td>\n",
       "      <td>0.030303</td>\n",
       "      <td>0.742424</td>\n",
       "    </tr>\n",
       "    <tr>\n",
       "      <th>1</th>\n",
       "      <td>0.158621</td>\n",
       "      <td>0.255172</td>\n",
       "      <td>0.455172</td>\n",
       "    </tr>\n",
       "    <tr>\n",
       "      <th>2</th>\n",
       "      <td>0.190476</td>\n",
       "      <td>0.047619</td>\n",
       "      <td>0.714286</td>\n",
       "    </tr>\n",
       "    <tr>\n",
       "      <th>3</th>\n",
       "      <td>0.118280</td>\n",
       "      <td>0.166667</td>\n",
       "      <td>0.456989</td>\n",
       "    </tr>\n",
       "  </tbody>\n",
       "</table>\n",
       "</div>"
      ],
      "text/plain": [
       "          t_party  quant_gender  quant_party\n",
       "cluster                                     \n",
       "0        0.151515      0.030303     0.742424\n",
       "1        0.158621      0.255172     0.455172\n",
       "2        0.190476      0.047619     0.714286\n",
       "3        0.118280      0.166667     0.456989"
      ]
     },
     "execution_count": 36,
     "metadata": {},
     "output_type": "execute_result"
    }
   ],
   "source": [
    "speaker_df.groupby('cluster').mean()"
   ]
  },
  {
   "cell_type": "code",
   "execution_count": 39,
   "metadata": {
    "collapsed": false
   },
   "outputs": [
    {
     "data": {
      "text/html": [
       "<div>\n",
       "<table border=\"1\" class=\"dataframe\">\n",
       "  <thead>\n",
       "    <tr style=\"text-align: right;\">\n",
       "      <th></th>\n",
       "      <th>speaker</th>\n",
       "      <th>party</th>\n",
       "      <th>t_party</th>\n",
       "      <th>state</th>\n",
       "      <th>gender</th>\n",
       "      <th>variable</th>\n",
       "      <th>value</th>\n",
       "      <th>quant_gender</th>\n",
       "      <th>quant_party</th>\n",
       "    </tr>\n",
       "    <tr>\n",
       "      <th>cluster</th>\n",
       "      <th></th>\n",
       "      <th></th>\n",
       "      <th></th>\n",
       "      <th></th>\n",
       "      <th></th>\n",
       "      <th></th>\n",
       "      <th></th>\n",
       "      <th></th>\n",
       "      <th></th>\n",
       "    </tr>\n",
       "  </thead>\n",
       "  <tbody>\n",
       "    <tr>\n",
       "      <th>0</th>\n",
       "      <td>Texas</td>\n",
       "      <td>Texas</td>\n",
       "      <td>Texas</td>\n",
       "      <td>Texas</td>\n",
       "      <td>Texas</td>\n",
       "      <td>Texas</td>\n",
       "      <td>Texas</td>\n",
       "      <td>Texas</td>\n",
       "      <td>Texas</td>\n",
       "    </tr>\n",
       "    <tr>\n",
       "      <th>1</th>\n",
       "      <td>California</td>\n",
       "      <td>California</td>\n",
       "      <td>California</td>\n",
       "      <td>California</td>\n",
       "      <td>California</td>\n",
       "      <td>California</td>\n",
       "      <td>California</td>\n",
       "      <td>California</td>\n",
       "      <td>California</td>\n",
       "    </tr>\n",
       "    <tr>\n",
       "      <th>2</th>\n",
       "      <td>Florida</td>\n",
       "      <td>Florida</td>\n",
       "      <td>Florida</td>\n",
       "      <td>Florida</td>\n",
       "      <td>Florida</td>\n",
       "      <td>Florida</td>\n",
       "      <td>Florida</td>\n",
       "      <td>Florida</td>\n",
       "      <td>Florida</td>\n",
       "    </tr>\n",
       "    <tr>\n",
       "      <th>3</th>\n",
       "      <td>California</td>\n",
       "      <td>California</td>\n",
       "      <td>California</td>\n",
       "      <td>California</td>\n",
       "      <td>California</td>\n",
       "      <td>California</td>\n",
       "      <td>California</td>\n",
       "      <td>California</td>\n",
       "      <td>California</td>\n",
       "    </tr>\n",
       "  </tbody>\n",
       "</table>\n",
       "</div>"
      ],
      "text/plain": [
       "            speaker       party     t_party       state      gender  \\\n",
       "cluster                                                               \n",
       "0             Texas       Texas       Texas       Texas       Texas   \n",
       "1        California  California  California  California  California   \n",
       "2           Florida     Florida     Florida     Florida     Florida   \n",
       "3        California  California  California  California  California   \n",
       "\n",
       "           variable       value quant_gender quant_party  \n",
       "cluster                                                   \n",
       "0             Texas       Texas        Texas       Texas  \n",
       "1        California  California   California  California  \n",
       "2           Florida     Florida      Florida     Florida  \n",
       "3        California  California   California  California  "
      ]
     },
     "execution_count": 39,
     "metadata": {},
     "output_type": "execute_result"
    }
   ],
   "source": [
    "speaker_df.groupby('cluster').agg(lambda x:x.state.value_counts().index[0])"
   ]
  },
  {
   "cell_type": "code",
   "execution_count": 56,
   "metadata": {
    "collapsed": false
   },
   "outputs": [
    {
     "data": {
      "text/html": [
       "<div>\n",
       "<table border=\"1\" class=\"dataframe\">\n",
       "  <thead>\n",
       "    <tr style=\"text-align: right;\">\n",
       "      <th></th>\n",
       "      <th></th>\n",
       "      <th>speaker</th>\n",
       "      <th>party</th>\n",
       "      <th>t_party</th>\n",
       "    </tr>\n",
       "    <tr>\n",
       "      <th>cluster</th>\n",
       "      <th></th>\n",
       "      <th></th>\n",
       "      <th></th>\n",
       "      <th></th>\n",
       "    </tr>\n",
       "  </thead>\n",
       "  <tbody>\n",
       "    <tr>\n",
       "      <th rowspan=\"4\" valign=\"top\">0</th>\n",
       "      <th>count</th>\n",
       "      <td>20</td>\n",
       "      <td>20</td>\n",
       "      <td>20</td>\n",
       "    </tr>\n",
       "    <tr>\n",
       "      <th>unique</th>\n",
       "      <td>20</td>\n",
       "      <td>3</td>\n",
       "      <td>2</td>\n",
       "    </tr>\n",
       "    <tr>\n",
       "      <th>top</th>\n",
       "      <td>Mr REED</td>\n",
       "      <td>(R)</td>\n",
       "      <td>False</td>\n",
       "    </tr>\n",
       "    <tr>\n",
       "      <th>freq</th>\n",
       "      <td>1</td>\n",
       "      <td>14</td>\n",
       "      <td>16</td>\n",
       "    </tr>\n",
       "    <tr>\n",
       "      <th rowspan=\"4\" valign=\"top\">1</th>\n",
       "      <th>count</th>\n",
       "      <td>40</td>\n",
       "      <td>40</td>\n",
       "      <td>40</td>\n",
       "    </tr>\n",
       "    <tr>\n",
       "      <th>unique</th>\n",
       "      <td>40</td>\n",
       "      <td>3</td>\n",
       "      <td>2</td>\n",
       "    </tr>\n",
       "    <tr>\n",
       "      <th>top</th>\n",
       "      <td>Mr MARINO</td>\n",
       "      <td>(D)</td>\n",
       "      <td>False</td>\n",
       "    </tr>\n",
       "    <tr>\n",
       "      <th>freq</th>\n",
       "      <td>1</td>\n",
       "      <td>20</td>\n",
       "      <td>38</td>\n",
       "    </tr>\n",
       "    <tr>\n",
       "      <th rowspan=\"4\" valign=\"top\">2</th>\n",
       "      <th>count</th>\n",
       "      <td>16</td>\n",
       "      <td>16</td>\n",
       "      <td>16</td>\n",
       "    </tr>\n",
       "    <tr>\n",
       "      <th>unique</th>\n",
       "      <td>16</td>\n",
       "      <td>3</td>\n",
       "      <td>2</td>\n",
       "    </tr>\n",
       "    <tr>\n",
       "      <th>top</th>\n",
       "      <td>Mrs LOWEY</td>\n",
       "      <td>(D)</td>\n",
       "      <td>False</td>\n",
       "    </tr>\n",
       "    <tr>\n",
       "      <th>freq</th>\n",
       "      <td>1</td>\n",
       "      <td>11</td>\n",
       "      <td>15</td>\n",
       "    </tr>\n",
       "    <tr>\n",
       "      <th rowspan=\"4\" valign=\"top\">3</th>\n",
       "      <th>count</th>\n",
       "      <td>126</td>\n",
       "      <td>126</td>\n",
       "      <td>126</td>\n",
       "    </tr>\n",
       "    <tr>\n",
       "      <th>unique</th>\n",
       "      <td>126</td>\n",
       "      <td>3</td>\n",
       "      <td>2</td>\n",
       "    </tr>\n",
       "    <tr>\n",
       "      <th>top</th>\n",
       "      <td>Mrs CAPITO</td>\n",
       "      <td>(R)</td>\n",
       "      <td>False</td>\n",
       "    </tr>\n",
       "    <tr>\n",
       "      <th>freq</th>\n",
       "      <td>1</td>\n",
       "      <td>66</td>\n",
       "      <td>110</td>\n",
       "    </tr>\n",
       "    <tr>\n",
       "      <th rowspan=\"4\" valign=\"top\">4</th>\n",
       "      <th>count</th>\n",
       "      <td>21</td>\n",
       "      <td>21</td>\n",
       "      <td>21</td>\n",
       "    </tr>\n",
       "    <tr>\n",
       "      <th>unique</th>\n",
       "      <td>21</td>\n",
       "      <td>3</td>\n",
       "      <td>2</td>\n",
       "    </tr>\n",
       "    <tr>\n",
       "      <th>top</th>\n",
       "      <td>Mr PLATTS</td>\n",
       "      <td>(R)</td>\n",
       "      <td>False</td>\n",
       "    </tr>\n",
       "    <tr>\n",
       "      <th>freq</th>\n",
       "      <td>1</td>\n",
       "      <td>11</td>\n",
       "      <td>19</td>\n",
       "    </tr>\n",
       "    <tr>\n",
       "      <th rowspan=\"4\" valign=\"top\">5</th>\n",
       "      <th>count</th>\n",
       "      <td>42</td>\n",
       "      <td>42</td>\n",
       "      <td>42</td>\n",
       "    </tr>\n",
       "    <tr>\n",
       "      <th>unique</th>\n",
       "      <td>42</td>\n",
       "      <td>3</td>\n",
       "      <td>2</td>\n",
       "    </tr>\n",
       "    <tr>\n",
       "      <th>top</th>\n",
       "      <td>Mr ADERHOLT</td>\n",
       "      <td>(R)</td>\n",
       "      <td>False</td>\n",
       "    </tr>\n",
       "    <tr>\n",
       "      <th>freq</th>\n",
       "      <td>1</td>\n",
       "      <td>36</td>\n",
       "      <td>35</td>\n",
       "    </tr>\n",
       "    <tr>\n",
       "      <th rowspan=\"4\" valign=\"top\">6</th>\n",
       "      <th>count</th>\n",
       "      <td>73</td>\n",
       "      <td>73</td>\n",
       "      <td>73</td>\n",
       "    </tr>\n",
       "    <tr>\n",
       "      <th>unique</th>\n",
       "      <td>73</td>\n",
       "      <td>3</td>\n",
       "      <td>2</td>\n",
       "    </tr>\n",
       "    <tr>\n",
       "      <th>top</th>\n",
       "      <td>Mr WALBERG</td>\n",
       "      <td>(D)</td>\n",
       "      <td>False</td>\n",
       "    </tr>\n",
       "    <tr>\n",
       "      <th>freq</th>\n",
       "      <td>1</td>\n",
       "      <td>42</td>\n",
       "      <td>63</td>\n",
       "    </tr>\n",
       "    <tr>\n",
       "      <th rowspan=\"4\" valign=\"top\">7</th>\n",
       "      <th>count</th>\n",
       "      <td>80</td>\n",
       "      <td>80</td>\n",
       "      <td>80</td>\n",
       "    </tr>\n",
       "    <tr>\n",
       "      <th>unique</th>\n",
       "      <td>80</td>\n",
       "      <td>3</td>\n",
       "      <td>2</td>\n",
       "    </tr>\n",
       "    <tr>\n",
       "      <th>top</th>\n",
       "      <td>Mr PEARCE</td>\n",
       "      <td>(R)</td>\n",
       "      <td>False</td>\n",
       "    </tr>\n",
       "    <tr>\n",
       "      <th>freq</th>\n",
       "      <td>1</td>\n",
       "      <td>47</td>\n",
       "      <td>63</td>\n",
       "    </tr>\n",
       "  </tbody>\n",
       "</table>\n",
       "</div>"
      ],
      "text/plain": [
       "                    speaker party t_party\n",
       "cluster                                  \n",
       "0       count            20    20      20\n",
       "        unique           20     3       2\n",
       "        top         Mr REED   (R)   False\n",
       "        freq              1    14      16\n",
       "1       count            40    40      40\n",
       "        unique           40     3       2\n",
       "        top       Mr MARINO   (D)   False\n",
       "        freq              1    20      38\n",
       "2       count            16    16      16\n",
       "        unique           16     3       2\n",
       "        top       Mrs LOWEY   (D)   False\n",
       "        freq              1    11      15\n",
       "3       count           126   126     126\n",
       "        unique          126     3       2\n",
       "        top      Mrs CAPITO   (R)   False\n",
       "        freq              1    66     110\n",
       "4       count            21    21      21\n",
       "        unique           21     3       2\n",
       "        top       Mr PLATTS   (R)   False\n",
       "        freq              1    11      19\n",
       "5       count            42    42      42\n",
       "        unique           42     3       2\n",
       "        top     Mr ADERHOLT   (R)   False\n",
       "        freq              1    36      35\n",
       "6       count            73    73      73\n",
       "        unique           73     3       2\n",
       "        top      Mr WALBERG   (D)   False\n",
       "        freq              1    42      63\n",
       "7       count            80    80      80\n",
       "        unique           80     3       2\n",
       "        top       Mr PEARCE   (R)   False\n",
       "        freq              1    47      63"
      ]
     },
     "execution_count": 56,
     "metadata": {},
     "output_type": "execute_result"
    }
   ],
   "source": [
    "def get_stats(group):\n",
    "    return {'min': group.min(), 'max': group.max(), 'count': group.count(), 'mean': group.mean()}"
   ]
  },
  {
   "cell_type": "code",
   "execution_count": null,
   "metadata": {
    "collapsed": true
   },
   "outputs": [],
   "source": [
    "df['postTestScore'].groupby(df['categories']).apply(get_stats).unstack()"
   ]
  }
 ],
 "metadata": {
  "kernelspec": {
   "display_name": "Python 3",
   "language": "python",
   "name": "python3"
  },
  "language_info": {
   "codemirror_mode": {
    "name": "ipython",
    "version": 3
   },
   "file_extension": ".py",
   "mimetype": "text/x-python",
   "name": "python",
   "nbconvert_exporter": "python",
   "pygments_lexer": "ipython3",
   "version": "3.5.2"
  }
 },
 "nbformat": 4,
 "nbformat_minor": 1
}
