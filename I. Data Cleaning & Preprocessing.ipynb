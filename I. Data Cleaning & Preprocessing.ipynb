{
 "cells": [
  {
   "cell_type": "code",
   "execution_count": 51,
   "metadata": {
    "collapsed": false
   },
   "outputs": [],
   "source": [
    "import shelve\n",
    "import pandas as pd\n",
    "import us\n",
    "import pickle\n",
    "from nltk.stem import WordNetLemmatizer, SnowballStemmer\n",
    "from nltk import pos_tag\n",
    "import C2V.data_cleaning as dc\n",
    "import C2V.preprocessing as pc"
   ]
  },
  {
   "cell_type": "code",
   "execution_count": 41,
   "metadata": {
    "collapsed": false
   },
   "outputs": [
    {
     "name": "stdout",
     "output_type": "stream",
     "text": [
      "Populating the interactive namespace from numpy and matplotlib\n"
     ]
    }
   ],
   "source": [
    "%pylab inline"
   ]
  },
  {
   "cell_type": "markdown",
   "metadata": {},
   "source": [
    "## Cleaning"
   ]
  },
  {
   "cell_type": "code",
   "execution_count": 69,
   "metadata": {
    "collapsed": true
   },
   "outputs": [],
   "source": [
    "#inititalize a pandas dataframe we will populate with the 112th congress\n",
    "df = pd.DataFrame(columns=['congress','date','gender','party','speaker','state','text'])"
   ]
  },
  {
   "cell_type": "code",
   "execution_count": 71,
   "metadata": {
    "collapsed": false
   },
   "outputs": [
    {
     "name": "stdout",
     "output_type": "stream",
     "text": [
      "{'text': '<html>\\n<head>\\n<title>Congressional Record, Volume 155 Issue 55 (Wednesday, April 1, 2009)</title>\\n</head>\\n<body><pre>\\n[Congressional Record Volume 155, Number 55 (Wednesday, April 1, 2009)]\\n[House]\\n[Page H4393]\\nFrom the Congressional Record Online through the Government Printing Office [<a href=\"http://www.gpo.gov\">www.gpo.gov</a>]\\n\\n\\n\\n\\n                             GENERAL LEAVE\\n\\n  Mrs. DAHLKEMPER. Madam Speaker, I ask unanimous consent that all \\nMembers may have 5 legislative days in which to revise and extend their \\nremarks and include extraneous material on H.R. 1256.\\n  The SPEAKER pro tempore. Is there objection to the request of the \\ngentlewoman from Pennsylvania?\\n  There was no objection.\\n\\n                          ____________________\\n\\n\\n</pre></body>\\n</html>', 'state': 'Pennsylvania', 'gender': 'F', 'congress': '111th', 'date': '20090401', 'party': '(D)', 'speaker': 'Mrs DAHLKEMPER'}\n"
     ]
    }
   ],
   "source": [
    "with shelve.open(\"data/USGPO.shelf\") as data:\n",
    "    #an example of what our dictionary contains\n",
    "    print(data['Mrs_DAHLKEMPER_20090401_1.txt'])\n",
    "    for key in data.keys():\n",
    "        dictionary = data[key]\n",
    "        #we will only be looking at the 112th congress for the sake of computation\n",
    "        if dictionary['congress']  == '112th':\n",
    "            #clean up the text\n",
    "            dictionary = dc.strip_html(dictionary)\n",
    "            #if our dictionary actually contains text\n",
    "            #print(dictionary)\n",
    "            if len(dictionary['text']) is not 0:\n",
    "                df = df.append(dictionary,ignore_index=True)"
   ]
  },
  {
   "cell_type": "markdown",
   "metadata": {},
   "source": [
    "*The dataset looks like it contains scraped entries from the Congressional Record for speaker, state, party, Congress number, gender, and text of the given speech for that day. Data exists from 2002 to 2014. We'll focus on the 112th Congress (2011-2012)* "
   ]
  },
  {
   "cell_type": "code",
   "execution_count": 73,
   "metadata": {
    "collapsed": false
   },
   "outputs": [
    {
     "data": {
      "text/html": [
       "<div>\n",
       "<table border=\"1\" class=\"dataframe\">\n",
       "  <thead>\n",
       "    <tr style=\"text-align: right;\">\n",
       "      <th></th>\n",
       "      <th>congress</th>\n",
       "      <th>date</th>\n",
       "      <th>gender</th>\n",
       "      <th>party</th>\n",
       "      <th>speaker</th>\n",
       "      <th>state</th>\n",
       "      <th>text</th>\n",
       "    </tr>\n",
       "  </thead>\n",
       "  <tbody>\n",
       "    <tr>\n",
       "      <th>13554</th>\n",
       "      <td>112th</td>\n",
       "      <td>20111013</td>\n",
       "      <td>M</td>\n",
       "      <td>(D)</td>\n",
       "      <td>Mr CICILLINE</td>\n",
       "      <td>Rhode Island</td>\n",
       "      <td>H.R. 3190.       Congress has the power...</td>\n",
       "    </tr>\n",
       "    <tr>\n",
       "      <th>13555</th>\n",
       "      <td>112th</td>\n",
       "      <td>20110706</td>\n",
       "      <td>M</td>\n",
       "      <td>(D)</td>\n",
       "      <td>Mr CONNOLLY of Virginia</td>\n",
       "      <td>Virginia</td>\n",
       "      <td>of Virginia:       H.R. 2419.       Congress h...</td>\n",
       "    </tr>\n",
       "    <tr>\n",
       "      <th>13556</th>\n",
       "      <td>112th</td>\n",
       "      <td>20120518</td>\n",
       "      <td>M</td>\n",
       "      <td>(R)</td>\n",
       "      <td>Mr DUNCAN of Tennessee</td>\n",
       "      <td>Tennessee</td>\n",
       "      <td>of Tennessee:        H.R. 5840.        Congres...</td>\n",
       "    </tr>\n",
       "    <tr>\n",
       "      <th>13557</th>\n",
       "      <td>112th</td>\n",
       "      <td>20110301</td>\n",
       "      <td>M</td>\n",
       "      <td>(R)</td>\n",
       "      <td>Mr DUNCAN of Tennessee</td>\n",
       "      <td>Tennessee</td>\n",
       "      <td>of Tennessee. Mr. Speaker, last Tuesday the to...</td>\n",
       "    </tr>\n",
       "    <tr>\n",
       "      <th>13558</th>\n",
       "      <td>112th</td>\n",
       "      <td>20120131</td>\n",
       "      <td>F</td>\n",
       "      <td>(R)</td>\n",
       "      <td>Mrs BLACKBURN</td>\n",
       "      <td>Tennessee</td>\n",
       "      <td>. Madam Speaker, it is so true that ``to whom ...</td>\n",
       "    </tr>\n",
       "  </tbody>\n",
       "</table>\n",
       "</div>"
      ],
      "text/plain": [
       "      congress      date gender party                  speaker         state  \\\n",
       "13554    112th  20111013      M   (D)             Mr CICILLINE  Rhode Island   \n",
       "13555    112th  20110706      M   (D)  Mr CONNOLLY of Virginia      Virginia   \n",
       "13556    112th  20120518      M   (R)   Mr DUNCAN of Tennessee     Tennessee   \n",
       "13557    112th  20110301      M   (R)   Mr DUNCAN of Tennessee     Tennessee   \n",
       "13558    112th  20120131      F   (R)            Mrs BLACKBURN     Tennessee   \n",
       "\n",
       "                                                    text  \n",
       "13554         H.R. 3190.       Congress has the power...  \n",
       "13555  of Virginia:       H.R. 2419.       Congress h...  \n",
       "13556  of Tennessee:        H.R. 5840.        Congres...  \n",
       "13557  of Tennessee. Mr. Speaker, last Tuesday the to...  \n",
       "13558  . Madam Speaker, it is so true that ``to whom ...  "
      ]
     },
     "execution_count": 73,
     "metadata": {},
     "output_type": "execute_result"
    }
   ],
   "source": [
    "df.tail()"
   ]
  },
  {
   "cell_type": "code",
   "execution_count": 38,
   "metadata": {
    "collapsed": false
   },
   "outputs": [
    {
     "data": {
      "text/plain": [
       "' First, let me thank my colleagues Congressmen McGovern and Jones, Congresswomen Woolsey and Waters, and Congressman Honda for their efforts to bring the war in Afghanistan to a swift and safe end.  M'"
      ]
     },
     "execution_count": 38,
     "metadata": {},
     "output_type": "execute_result"
    }
   ],
   "source": [
    "#an example of what text looks like in our dataset\n",
    "df.text[13546][0:200]"
   ]
  },
  {
   "cell_type": "markdown",
   "metadata": {},
   "source": [
    "*it looks like many of the documents are not actual speaches, but instead protocol speak, let's see what percent of our documents are protocol*"
   ]
  },
  {
   "cell_type": "code",
   "execution_count": 132,
   "metadata": {
    "collapsed": true
   },
   "outputs": [],
   "source": [
    "df['protocol'] = df.apply(lambda row: dc.detect_protocol(row['text']), axis=1)"
   ]
  },
  {
   "cell_type": "code",
   "execution_count": 150,
   "metadata": {
    "collapsed": false
   },
   "outputs": [
    {
     "data": {
      "text/plain": [
       "0.48462275979054503"
      ]
     },
     "execution_count": 150,
     "metadata": {},
     "output_type": "execute_result"
    }
   ],
   "source": [
    "sum(df['protocol'])/len(df)"
   ]
  },
  {
   "cell_type": "markdown",
   "metadata": {},
   "source": [
    " *48% of the data is composed of protocol format text. For now, we will choose to model with protocol speech included because it might still contain meaningful information; however, it might be worth throwing out down the road.*"
   ]
  },
  {
   "cell_type": "code",
   "execution_count": 193,
   "metadata": {
    "collapsed": false
   },
   "outputs": [],
   "source": [
    "df['text'] = df.apply(lambda row: dc.strip_states(row['text']), axis=1)\n",
    "df['text'] = df.apply(lambda row: dc.replace_underscore(row['text']), axis=1)\n",
    "df['text'] = df.apply(lambda row: dc.clean_numbers(row['text']), axis=1)\n",
    "df['text'] = df.apply(lambda row: dc.clean_beginning(row['text']), axis=1)"
   ]
  },
  {
   "cell_type": "markdown",
   "metadata": {},
   "source": [
    "*There were a few select cases where there were naming inconsistencies of speeches that belonged to specific Congress people. I manually identifed and fixed these cases by hand:*"
   ]
  },
  {
   "cell_type": "code",
   "execution_count": 123,
   "metadata": {
    "collapsed": true
   },
   "outputs": [],
   "source": [
    "# we also want to add a field to out table that allows us to marry a single record per congress person:\n",
    "#Log of manual changes:\n",
    "df.set_value(148, 'speaker', 'Mr BISHOP of Utah')\n",
    "df.set_value(3085, 'speaker', 'Mr GRAVES of Missouri')\n",
    "df.set_value(618, 'speaker', 'Mr TURNER of Ohio')\n",
    "df.set_value(2995, 'speaker', 'Mr TURNER of Ohio')\n",
    "df.set_value(5309, 'speaker', 'Mr TURNER of Ohio')\n",
    "df.set_value(7435, 'speaker', 'Mr TURNER of Ohio')\n",
    "df.set_value(7479, 'speaker', 'Mr TURNER of Ohio')\n",
    "df.set_value(8168, 'speaker', 'Mr TURNER of Ohio')\n",
    "df.set_value(11630, 'speaker', 'Mr TURNER of Ohio')\n",
    "df.set_value(13312, 'speaker', 'Mr TURNER of Ohio')\n",
    "df.set_value(2758, 'speaker', 'Mr WALZ of Minnesota')\n",
    "df.set_value(6379, 'speaker', 'Mr WALZ of Minnesota')\n",
    "df.set_value(4562, 'speaker', 'Ms BASS of California')"
   ]
  },
  {
   "cell_type": "markdown",
   "metadata": {},
   "source": [
    "*In addition, it's useful to capture word count for later use as a feature in our model:*"
   ]
  },
  {
   "cell_type": "markdown",
   "metadata": {},
   "source": [
    "## Preprocessing"
   ]
  },
  {
   "cell_type": "code",
   "execution_count": 124,
   "metadata": {
    "collapsed": true
   },
   "outputs": [],
   "source": [
    "#add a word count field to explore:\n",
    "df['length'] = df.apply(lambda row: len(row['text'].translate({ord(c): None for c in string.punctuation}).split()),\n",
    "                        axis=1)"
   ]
  },
  {
   "cell_type": "markdown",
   "metadata": {},
   "source": [
    "*We can also pull in useful features like who were members of the Tea Party*"
   ]
  },
  {
   "cell_type": "code",
   "execution_count": 52,
   "metadata": {
    "collapsed": true
   },
   "outputs": [],
   "source": [
    "#from https://en.wikipedia.org/wiki/Tea_Party_Caucus\n",
    "t_party = ['Franks','Schweikert','McClintock','Royce','Coffman','Lamborn','Bilirakis','Crenshaw','Nugent','Ross',\n",
    "           'Price','Westmoreland','King','Stutzman','Huelskamp','Jenkins','Fleming','Scalise','Walberg','Palazzo',\n",
    "           'Hartzler','Luetkemeyer','Smith','Pearce','Carolina','Duncan','Mulvaney','Wilson','Black','Fincher',\n",
    "           'Roe','Barton','Burgess','Carter','Culberson','Farenthold','Gohmert','Marchant','Neugebauer','Poe',\n",
    "           'Sessions','Smith','Bishop','McKinley','Lummis','Bachmann','Georgia','Cassidy','Coble','Gingrey',\n",
    "           'Miller','Sessions','McCain','Rubio','Risch','Moran','McConnell','Paul','Blunt','Toomey','Scott',\n",
    "           'Cornyn','Cruz','Lee','Johnson','Enzi','DeMint']\n",
    "t_party = [t.upper() for t in t_party]\n",
    "#append t_party to the dataset\n",
    "df['t_party'] = df.apply(lambda row: pc.findTParty(row['speaker'],t_party=t_party, party=row['party']), axis=1)"
   ]
  },
  {
   "cell_type": "markdown",
   "metadata": {},
   "source": [
    "## Normalizing"
   ]
  },
  {
   "cell_type": "markdown",
   "metadata": {},
   "source": [
    "*Although we can easily use pass these in as functions into CountVectorizer() in sklearn, we need this step for word2vec and doc2vec formats, so it is worthwhile to process them manually: *"
   ]
  },
  {
   "cell_type": "code",
   "execution_count": 53,
   "metadata": {
    "collapsed": true
   },
   "outputs": [],
   "source": [
    "stemmer = SnowballStemmer('english')\n",
    "lemmer = WordNetLemmatizer()\n",
    "df['text_tokenize'] = df.apply(lambda row: pc.tokenize(row['text']), axis=1)\n",
    "df['text_stemmatize'] = df.apply(lambda row: pc.stemmatize(row['text'],stemmer=stemmer), axis=1)\n",
    "#this one takes a very very long time to run\n",
    "df['text_lemmatize'] = df.apply(lambda row: pc.lemmatize(row['text'],lemmer=lemmer), axis=1)"
   ]
  },
  {
   "cell_type": "code",
   "execution_count": 55,
   "metadata": {
    "collapsed": true
   },
   "outputs": [],
   "source": [
    "#we choose to remove haplaxes from only one of the normalizations \n",
    "stem_haps= pc.get_haps(df['text_stemmatize'])\n",
    "df['text_stemmatized_haplatized'] = df.apply(lambda row: [w for w in row['text_stemmatize'] if w not in set(stem_haps)], axis=1)"
   ]
  },
  {
   "cell_type": "code",
   "execution_count": 56,
   "metadata": {
    "collapsed": true
   },
   "outputs": [],
   "source": [
    "#and save\n",
    "df.to_pickle('data/gov_doc_df.pkl') "
   ]
  }
 ],
 "metadata": {
  "kernelspec": {
   "display_name": "Python 3",
   "language": "python",
   "name": "python3"
  },
  "language_info": {
   "codemirror_mode": {
    "name": "ipython",
    "version": 3
   },
   "file_extension": ".py",
   "mimetype": "text/x-python",
   "name": "python",
   "nbconvert_exporter": "python",
   "pygments_lexer": "ipython3",
   "version": "3.5.2"
  }
 },
 "nbformat": 4,
 "nbformat_minor": 0
}
